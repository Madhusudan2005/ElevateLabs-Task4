{
  "nbformat": 4,
  "nbformat_minor": 0,
  "metadata": {
    "colab": {
      "provenance": [],
      "authorship_tag": "ABX9TyMdRvSolelzSYXiV7UIB9NQ",
      "include_colab_link": true
    },
    "kernelspec": {
      "name": "python3",
      "display_name": "Python 3"
    },
    "language_info": {
      "name": "python"
    }
  },
  "cells": [
    {
      "cell_type": "markdown",
      "metadata": {
        "id": "view-in-github",
        "colab_type": "text"
      },
      "source": [
        "<a href=\"https://colab.research.google.com/github/Madhusudan2005/ElevateLabs-Task4/blob/main/ElevateLabs_Task4.ipynb\" target=\"_parent\"><img src=\"https://colab.research.google.com/assets/colab-badge.svg\" alt=\"Open In Colab\"/></a>"
      ]
    },
    {
      "cell_type": "code",
      "source": [
        "# Import Libraries\n",
        "import pandas as pd\n",
        "from sklearn.model_selection import train_test_split\n",
        "from sklearn.preprocessing import StandardScaler\n",
        "from sklearn.linear_model import LogisticRegression\n",
        "from sklearn.metrics import confusion_matrix, precision_score, recall_score, roc_curve, roc_auc_score, accuracy_score\n",
        "import matplotlib.pyplot as plt\n",
        "\n",
        "# Load the dataset\n",
        "# This line will now succeed because 'data.csv' is in the current environment.\n",
        "try:\n",
        "    df = pd.read_csv('data.csv')\n",
        "    print(\"Dataset loaded successfully.\")\n",
        "\n",
        "    # Initial inspection\n",
        "    print(\"\\nFirst 5 rows of the dataset:\")\n",
        "    print(df.head())\n",
        "    print(\"\\nColumn Information:\")\n",
        "    print(df.info())\n",
        "\n",
        "except FileNotFoundError:\n",
        "    print(\"--- CRITICAL ERROR: File not found. Did you upload 'data.csv' to the Colab file tab? ---\")\n",
        "\n",
        "# Proceed to the next code block (Step 2: Preprocessing) once this one runs successfully."
      ],
      "metadata": {
        "colab": {
          "base_uri": "https://localhost:8080/"
        },
        "id": "jsE92c410OC6",
        "outputId": "1f770c64-0bc2-476b-c5d6-0bfd221653b6"
      },
      "execution_count": 2,
      "outputs": [
        {
          "output_type": "stream",
          "name": "stdout",
          "text": [
            "Dataset loaded successfully.\n",
            "\n",
            "First 5 rows of the dataset:\n",
            "         id diagnosis  radius_mean  texture_mean  perimeter_mean  area_mean  \\\n",
            "0    842302         M        17.99         10.38          122.80     1001.0   \n",
            "1    842517         M        20.57         17.77          132.90     1326.0   \n",
            "2  84300903         M        19.69         21.25          130.00     1203.0   \n",
            "3  84348301         M        11.42         20.38           77.58      386.1   \n",
            "4  84358402         M        20.29         14.34          135.10     1297.0   \n",
            "\n",
            "   smoothness_mean  compactness_mean  concavity_mean  concave points_mean  \\\n",
            "0          0.11840           0.27760          0.3001              0.14710   \n",
            "1          0.08474           0.07864          0.0869              0.07017   \n",
            "2          0.10960           0.15990          0.1974              0.12790   \n",
            "3          0.14250           0.28390          0.2414              0.10520   \n",
            "4          0.10030           0.13280          0.1980              0.10430   \n",
            "\n",
            "   ...  texture_worst  perimeter_worst  area_worst  smoothness_worst  \\\n",
            "0  ...          17.33           184.60      2019.0            0.1622   \n",
            "1  ...          23.41           158.80      1956.0            0.1238   \n",
            "2  ...          25.53           152.50      1709.0            0.1444   \n",
            "3  ...          26.50            98.87       567.7            0.2098   \n",
            "4  ...          16.67           152.20      1575.0            0.1374   \n",
            "\n",
            "   compactness_worst  concavity_worst  concave points_worst  symmetry_worst  \\\n",
            "0             0.6656           0.7119                0.2654          0.4601   \n",
            "1             0.1866           0.2416                0.1860          0.2750   \n",
            "2             0.4245           0.4504                0.2430          0.3613   \n",
            "3             0.8663           0.6869                0.2575          0.6638   \n",
            "4             0.2050           0.4000                0.1625          0.2364   \n",
            "\n",
            "   fractal_dimension_worst  Unnamed: 32  \n",
            "0                  0.11890          NaN  \n",
            "1                  0.08902          NaN  \n",
            "2                  0.08758          NaN  \n",
            "3                  0.17300          NaN  \n",
            "4                  0.07678          NaN  \n",
            "\n",
            "[5 rows x 33 columns]\n",
            "\n",
            "Column Information:\n",
            "<class 'pandas.core.frame.DataFrame'>\n",
            "RangeIndex: 569 entries, 0 to 568\n",
            "Data columns (total 33 columns):\n",
            " #   Column                   Non-Null Count  Dtype  \n",
            "---  ------                   --------------  -----  \n",
            " 0   id                       569 non-null    int64  \n",
            " 1   diagnosis                569 non-null    object \n",
            " 2   radius_mean              569 non-null    float64\n",
            " 3   texture_mean             569 non-null    float64\n",
            " 4   perimeter_mean           569 non-null    float64\n",
            " 5   area_mean                569 non-null    float64\n",
            " 6   smoothness_mean          569 non-null    float64\n",
            " 7   compactness_mean         569 non-null    float64\n",
            " 8   concavity_mean           569 non-null    float64\n",
            " 9   concave points_mean      569 non-null    float64\n",
            " 10  symmetry_mean            569 non-null    float64\n",
            " 11  fractal_dimension_mean   569 non-null    float64\n",
            " 12  radius_se                569 non-null    float64\n",
            " 13  texture_se               569 non-null    float64\n",
            " 14  perimeter_se             569 non-null    float64\n",
            " 15  area_se                  569 non-null    float64\n",
            " 16  smoothness_se            569 non-null    float64\n",
            " 17  compactness_se           569 non-null    float64\n",
            " 18  concavity_se             569 non-null    float64\n",
            " 19  concave points_se        569 non-null    float64\n",
            " 20  symmetry_se              569 non-null    float64\n",
            " 21  fractal_dimension_se     569 non-null    float64\n",
            " 22  radius_worst             569 non-null    float64\n",
            " 23  texture_worst            569 non-null    float64\n",
            " 24  perimeter_worst          569 non-null    float64\n",
            " 25  area_worst               569 non-null    float64\n",
            " 26  smoothness_worst         569 non-null    float64\n",
            " 27  compactness_worst        569 non-null    float64\n",
            " 28  concavity_worst          569 non-null    float64\n",
            " 29  concave points_worst     569 non-null    float64\n",
            " 30  symmetry_worst           569 non-null    float64\n",
            " 31  fractal_dimension_worst  569 non-null    float64\n",
            " 32  Unnamed: 32              0 non-null      float64\n",
            "dtypes: float64(31), int64(1), object(1)\n",
            "memory usage: 146.8+ KB\n",
            "None\n"
          ]
        }
      ]
    },
    {
      "cell_type": "code",
      "source": [
        "# 1. Drop irrelevant columns: 'id' and the all-NaN column 'Unnamed: 32'\n",
        "df_processed = df.drop(['id', 'Unnamed: 32'], axis=1)\n",
        "\n",
        "# 2. Encode the target variable 'diagnosis'\n",
        "# M -> 1 (Malignant), B -> 0 (Benign)\n",
        "df_processed['diagnosis'] = df_processed['diagnosis'].map({'M': 1, 'B': 0})\n",
        "\n",
        "# 3. Separate features (X) and target (y)\n",
        "X = df_processed.drop('diagnosis', axis=1)\n",
        "y = df_processed['diagnosis']\n",
        "\n",
        "# 4. Train/test split (80% train, 20% test)\n",
        "# stratify=y ensures the same proportion of target classes in both sets\n",
        "X_train, X_test, y_train, y_test = train_test_split(X, y, test_size=0.2, random_state=42, stratify=y)\n",
        "\n",
        "# 5. Standardize features\n",
        "scaler = StandardScaler()\n",
        "X_train_scaled = scaler.fit_transform(X_train)\n",
        "X_test_scaled = scaler.transform(X_test)\n",
        "\n",
        "print(f\"\\nTraining data shape: {X_train_scaled.shape}\")\n",
        "print(f\"Testing data shape: {X_test_scaled.shape}\")"
      ],
      "metadata": {
        "colab": {
          "base_uri": "https://localhost:8080/"
        },
        "id": "QCjTnvMm0kcA",
        "outputId": "f5343214-134d-4f17-ec34-d78137058f1e"
      },
      "execution_count": 3,
      "outputs": [
        {
          "output_type": "stream",
          "name": "stdout",
          "text": [
            "\n",
            "Training data shape: (455, 30)\n",
            "Testing data shape: (114, 30)\n"
          ]
        }
      ]
    },
    {
      "cell_type": "code",
      "source": [
        "# 1. Fit a Logistic Regression model\n",
        "model = LogisticRegression(random_state=42)\n",
        "model.fit(X_train_scaled, y_train)\n",
        "\n",
        "# 2. Make predictions and get probabilities\n",
        "y_pred = model.predict(X_test_scaled)\n",
        "y_pred_proba = model.predict_proba(X_test_scaled)[:, 1] # Probability of class 1 (Malignant)\n",
        "\n",
        "# 3. Calculate metrics\n",
        "accuracy = accuracy_score(y_test, y_pred)\n",
        "precision = precision_score(y_test, y_pred)\n",
        "recall = recall_score(y_test, y_pred)\n",
        "roc_auc = roc_auc_score(y_test, y_pred_proba)\n",
        "conf_matrix = confusion_matrix(y_test, y_pred)\n",
        "\n",
        "print(\"--- Model Performance Metrics (Default Threshold 0.5) ---\")\n",
        "print(f\"Accuracy: {accuracy:.4f}\")\n",
        "print(f\"Precision: {precision:.4f}\")\n",
        "print(f\"Recall: {recall:.4f}\")\n",
        "print(f\"ROC-AUC Score: {roc_auc:.4f}\")\n",
        "\n",
        "print(\"\\nConfusion Matrix (Rows: Actual, Columns: Predicted):\")\n",
        "print(pd.DataFrame(conf_matrix,\n",
        "                   index=['Actual Benign (0)', 'Actual Malignant (1)'],\n",
        "                   columns=['Predicted Benign (0)', 'Predicted Malignant (1)']))"
      ],
      "metadata": {
        "colab": {
          "base_uri": "https://localhost:8080/"
        },
        "id": "fGjF_MQh0sq5",
        "outputId": "f590da50-68a6-425d-f36a-2a147d0df54a"
      },
      "execution_count": 4,
      "outputs": [
        {
          "output_type": "stream",
          "name": "stdout",
          "text": [
            "--- Model Performance Metrics (Default Threshold 0.5) ---\n",
            "Accuracy: 0.9649\n",
            "Precision: 0.9750\n",
            "Recall: 0.9286\n",
            "ROC-AUC Score: 0.9960\n",
            "\n",
            "Confusion Matrix (Rows: Actual, Columns: Predicted):\n",
            "                      Predicted Benign (0)  Predicted Malignant (1)\n",
            "Actual Benign (0)                       71                        1\n",
            "Actual Malignant (1)                     3                       39\n"
          ]
        }
      ]
    },
    {
      "cell_type": "code",
      "source": [
        "# Plot ROC-AUC Curve\n",
        "fpr, tpr, thresholds = roc_curve(y_test, y_pred_proba)\n",
        "\n",
        "plt.figure(figsize=(8, 6))\n",
        "plt.plot(fpr, tpr, color='darkorange', lw=2, label=f'ROC curve (area = {roc_auc:.4f})')\n",
        "plt.plot([0, 1], [0, 1], color='navy', lw=2, linestyle='--')\n",
        "plt.xlim([0.0, 1.0])\n",
        "plt.ylim([0.0, 1.05])\n",
        "plt.xlabel('False Positive Rate (1 - Specificity)')\n",
        "plt.ylabel('True Positive Rate (Recall)')\n",
        "plt.title('Receiver Operating Characteristic (ROC) Curve for Logistic Regression')\n",
        "plt.legend(loc=\"lower right\")\n",
        "plt.grid(True)\n",
        "plt.show()\n",
        "\n",
        "# You should save this plot and include it in your GitHub repository.\n",
        "# plt.savefig('roc_curve.png')"
      ],
      "metadata": {
        "colab": {
          "base_uri": "https://localhost:8080/",
          "height": 564
        },
        "id": "yj-1iQkJ0uuz",
        "outputId": "9a6af6de-28b8-4f8d-c1c5-db8248acc35f"
      },
      "execution_count": 5,
      "outputs": [
        {
          "output_type": "display_data",
          "data": {
            "text/plain": [
              "<Figure size 800x600 with 1 Axes>"
            ],
            "image/png": "[encoded data removed]"
          },
          "metadata": {}
        }
      ]
    },
    {
      "cell_type": "code",
      "source": [
        "# Prioritize Recall (reducing False Negatives) in cancer diagnosis\n",
        "# Find the threshold that yields the best balance or a specific high recall, e.g., 95%\n",
        "target_tpr = 0.95\n",
        "threshold_df = pd.DataFrame({'Threshold': thresholds, 'True Positive Rate (Recall)': tpr, 'False Positive Rate': fpr})\n",
        "target_threshold = threshold_df[threshold_df['True Positive Rate (Recall)'] >= target_tpr].iloc[0]['Threshold']\n",
        "\n",
        "# Re-evaluate with the new threshold (0.3145 was found in the previous step)\n",
        "y_pred_tuned = (y_pred_proba >= target_threshold).astype(int)\n",
        "\n",
        "tuned_precision = precision_score(y_test, y_pred_tuned)\n",
        "tuned_recall = recall_score(y_test, y_pred_tuned)\n",
        "tuned_accuracy = accuracy_score(y_test, y_pred_tuned)\n",
        "conf_matrix_tuned = confusion_matrix(y_test, y_pred_tuned)\n",
        "\n",
        "\n",
        "print(f\"\\n--- Evaluation with Tuned Threshold ({target_threshold:.4f}) ---\")\n",
        "print(f\"Goal: Achieve Recall of at least {target_tpr*100:.0f}%\")\n",
        "print(f\"New Accuracy: {tuned_accuracy:.4f}\")\n",
        "print(f\"New Precision: {tuned_precision:.4f}\")\n",
        "print(f\"New Recall: {tuned_recall:.4f}\")\n",
        "\n",
        "print(\"\\nConfusion Matrix (Tuned Threshold):\")\n",
        "print(pd.DataFrame(conf_matrix_tuned,\n",
        "                   index=['Actual Benign (0)', 'Actual Malignant (1)'],\n",
        "                   columns=['Predicted Benign (0)', 'Predicted Malignant (1)']))"
      ],
      "metadata": {
        "colab": {
          "base_uri": "https://localhost:8080/"
        },
        "id": "p0rfYeow02Dn",
        "outputId": "9ab03ba2-e4a7-4c26-d185-76b8102a120e"
      },
      "execution_count": 6,
      "outputs": [
        {
          "output_type": "stream",
          "name": "stdout",
          "text": [
            "\n",
            "--- Evaluation with Tuned Threshold (0.3145) ---\n",
            "Goal: Achieve Recall of at least 95%\n",
            "New Accuracy: 0.9825\n",
            "New Precision: 0.9762\n",
            "New Recall: 0.9762\n",
            "\n",
            "Confusion Matrix (Tuned Threshold):\n",
            "                      Predicted Benign (0)  Predicted Malignant (1)\n",
            "Actual Benign (0)                       71                        1\n",
            "Actual Malignant (1)                     1                       41\n"
          ]
        }
      ]
    },
    {
      "cell_type": "code",
      "source": [],
      "metadata": {
        "id": "J7LDgBk104D1"
      },
      "execution_count": null,
      "outputs": []
    }
  ]
}